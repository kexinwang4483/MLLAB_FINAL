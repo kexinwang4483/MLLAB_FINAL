{
  "nbformat": 4,
  "nbformat_minor": 0,
  "metadata": {
    "kernelspec": {
      "display_name": "Python 3",
      "language": "python",
      "name": "python3"
    },
    "language_info": {
      "codemirror_mode": {
        "name": "ipython",
        "version": 3
      },
      "file_extension": ".py",
      "mimetype": "text/x-python",
      "name": "python",
      "nbconvert_exporter": "python",
      "pygments_lexer": "ipython3",
      "version": "3.8.5"
    },
    "toc": {
      "base_numbering": 1,
      "nav_menu": {},
      "number_sections": false,
      "sideBar": false,
      "skip_h1_title": false,
      "title_cell": "Table of Contents",
      "title_sidebar": "Contents",
      "toc_cell": true,
      "toc_position": {},
      "toc_section_display": true,
      "toc_window_display": false
    },
    "colab": {
      "name": "wkx_final_project.ipynb",
      "provenance": [],
      "toc_visible": true,
      "include_colab_link": true
    }
  },
  "cells": [
    {
      "cell_type": "markdown",
      "metadata": {
        "id": "view-in-github",
        "colab_type": "text"
      },
      "source": [
        "<a href=\"https://colab.research.google.com/github/kexinwang4483/MLLAB_FINAL/blob/main/wkx_final_project.ipynb\" target=\"_parent\"><img src=\"https://colab.research.google.com/assets/colab-badge.svg\" alt=\"Open In Colab\"/></a>"
      ]
    },
    {
      "cell_type": "markdown",
      "metadata": {
        "id": "3yG-0wJd0f9R"
      },
      "source": [
        "Name (as it appears on Canvas)\n",
        "----------\n",
        "\n",
        "Kexin Wang\n",
        "\n"
      ]
    },
    {
      "cell_type": "markdown",
      "metadata": {
        "id": "gCakteqF0f9T"
      },
      "source": [
        " "
      ]
    },
    {
      "cell_type": "markdown",
      "metadata": {
        "id": "paXA3koI0f9U"
      },
      "source": [
        "Research Question / Hypothesis\n",
        "----\n",
        "\n",
        "- With the expansion of the Internet, more and more people enjoys reading and sharing online news articles. The number of shares under a news article indicates how popular the news is. In this project, I intend to find the best model and set of feature to predict the popularity of online news, using machine learning techniques. \n",
        "\n",
        "- My dataset has 39644 rows, 61 columns and the last column `share` is my target variable. I plan to first decide the threshold and convert it to 2 classes, which would be popular and not popular, so my project is actually a `binary classification` problem.\n",
        "\n",
        "- The analytic goal include:\n",
        "\n",
        "1. Convert the target variable to binary format.\n",
        "2. Preprocess the data appropriately.\n",
        "3. Fit model for binary classification and check the performance with 2 metrics.\n",
        "4. Find the best model with grid search and randomized search.\n",
        "5. Make conclusion."
      ]
    },
    {
      "cell_type": "markdown",
      "metadata": {
        "id": "KDqUZgNf0f9U"
      },
      "source": [
        "Load Data\n",
        "-----"
      ]
    },
    {
      "cell_type": "code",
      "metadata": {
        "id": "dF6GVO9m0f9V"
      },
      "source": [
        "\n",
        "import numpy as np\n",
        "import pandas as pd\n",
        "import seaborn as sns\n",
        "import itertools\n",
        "import matplotlib.pyplot as plt\n",
        "from   sklearn.compose            import *\n",
        "from   sklearn.experimental       import enable_iterative_imputer\n",
        "from   sklearn.impute             import *\n",
        "from   sklearn.metrics            import balanced_accuracy_score # Evaluation metric 2.0 \n",
        "from   sklearn.pipeline           import Pipeline\n",
        "from   sklearn.preprocessing      import *\n",
        "from   sklearn.model_selection    import train_test_split\n",
        "from   sklearn.model_selection    import cross_val_score\n",
        "\n",
        "from sklearn.base                 import BaseEstimator\n",
        "from sklearn.decomposition        import PCA\n",
        "from sklearn.ensemble             import ExtraTreesClassifier, RandomForestClassifier\n",
        "from sklearn.linear_model         import LogisticRegression, RidgeClassifier\n",
        "from sklearn.metrics              import f1_score, confusion_matrix,\\\n",
        "    classification_report, precision_recall_curve \n",
        "from sklearn.model_selection      import RandomizedSearchCV\n",
        "from sklearn.neighbors            import KNeighborsClassifier\n",
        "from sklearn.naive_bayes          import GaussianNB\n",
        "from sklearn.pipeline             import Pipeline\n",
        "from sklearn.preprocessing        import StandardScaler\n",
        "from sklearn.svm                  import LinearSVC\n",
        "from sklearn.model_selection      import GridSearchCV\n",
        "import lightgbm as lgb\n",
        "\n",
        "import warnings\n",
        "warnings.filterwarnings('ignore')"
      ],
      "execution_count": 135,
      "outputs": []
    },
    {
      "cell_type": "code",
      "metadata": {
        "id": "SCPRxv6X0f9V"
      },
      "source": [
        "df = pd.read_csv('OnlineNewsPopularity.csv', delimiter=',')\n"
      ],
      "execution_count": 136,
      "outputs": []
    },
    {
      "cell_type": "code",
      "metadata": {
        "id": "mAUZpbtx0f9V"
      },
      "source": [
        "cts_col = [' timedelta', ' n_tokens_title', ' n_tokens_content', ' n_unique_tokens',\n",
        "           ' n_non_stop_words', ' n_non_stop_unique_tokens',\n",
        "           ' num_hrefs', ' num_self_hrefs', ' num_imgs', ' num_videos',\n",
        "           ' average_token_length', ' num_keywords', ' kw_min_min', ' kw_max_min', ' kw_avg_min',\n",
        "           ' kw_min_max', ' kw_max_max', ' kw_avg_max', ' kw_min_avg',\n",
        "           ' kw_max_avg', ' kw_avg_avg', ' self_reference_min_shares',\n",
        "           ' self_reference_max_shares', ' self_reference_avg_sharess',\n",
        "           ' LDA_00', ' LDA_01', ' LDA_02',\n",
        "           ' LDA_03', ' LDA_04', ' global_subjectivity',\n",
        "           ' global_sentiment_polarity', ' global_rate_positive_words',\n",
        "           ' global_rate_negative_words', ' rate_positive_words',\n",
        "           ' rate_negative_words', ' avg_positive_polarity',\n",
        "           ' min_positive_polarity', ' max_positive_polarity',\n",
        "           ' avg_negative_polarity', ' min_negative_polarity',\n",
        "           ' max_negative_polarity', ' title_subjectivity',\n",
        "           ' title_sentiment_polarity', ' abs_title_subjectivity',\n",
        "           ' abs_title_sentiment_polarity']\n",
        "\n",
        "\n",
        "cat_col = [' data_channel_is_lifestyle',\n",
        "           ' data_channel_is_entertainment', ' data_channel_is_bus',\n",
        "           ' data_channel_is_socmed', ' data_channel_is_tech',\n",
        "           ' data_channel_is_world', ' weekday_is_monday',\n",
        "           ' weekday_is_tuesday', ' weekday_is_wednesday',\n",
        "           ' weekday_is_thursday', ' weekday_is_friday',\n",
        "           ' weekday_is_saturday', ' weekday_is_sunday', ' is_weekend']\n",
        "\n",
        "drop_col = list(set(df.columns) - set(cts_col) - set(cat_col))"
      ],
      "execution_count": 137,
      "outputs": []
    },
    {
      "cell_type": "code",
      "metadata": {
        "id": "t68bllgx0f9W"
      },
      "source": [
        "y = df.iloc[:,-1]\n",
        "x = df.iloc[:, :-1]"
      ],
      "execution_count": 138,
      "outputs": []
    },
    {
      "cell_type": "code",
      "metadata": {
        "id": "9HyoOqw00f9W"
      },
      "source": [
        "y = np.array(y >= 1400)"
      ],
      "execution_count": 139,
      "outputs": []
    },
    {
      "cell_type": "code",
      "metadata": {
        "colab": {
          "base_uri": "https://localhost:8080/"
        },
        "id": "3aUiLNnV0f9W",
        "outputId": "9a56c44e-eeae-4210-97b4-3fc6043358c1"
      },
      "source": [
        "x.shape, y.shape"
      ],
      "execution_count": 140,
      "outputs": [
        {
          "output_type": "execute_result",
          "data": {
            "text/plain": [
              "((39644, 60), (39644,))"
            ]
          },
          "metadata": {
            "tags": []
          },
          "execution_count": 140
        }
      ]
    },
    {
      "cell_type": "code",
      "metadata": {
        "colab": {
          "base_uri": "https://localhost:8080/"
        },
        "id": "KGeSuGXn0f9X",
        "outputId": "36a56c16-6a0c-445d-f9d5-031aae6aa752"
      },
      "source": [
        "np.unique(y, return_counts=True)"
      ],
      "execution_count": 141,
      "outputs": [
        {
          "output_type": "execute_result",
          "data": {
            "text/plain": [
              "(array([False,  True]), array([18490, 21154]))"
            ]
          },
          "metadata": {
            "tags": []
          },
          "execution_count": 141
        }
      ]
    },
    {
      "cell_type": "markdown",
      "metadata": {
        "id": "3EJrWlGY0f9X"
      },
      "source": [
        "Fit Baseline Model\n",
        "----"
      ]
    },
    {
      "cell_type": "code",
      "metadata": {
        "id": "UGKoef-Q0f9X"
      },
      "source": [
        "def trans_x(x):\n",
        "    return x.astype(object)\n"
      ],
      "execution_count": 142,
      "outputs": []
    },
    {
      "cell_type": "code",
      "metadata": {
        "id": "UdpNFwUZ0f9X"
      },
      "source": [
        "con_pipe = Pipeline([('scaler', StandardScaler()),\n",
        "                     ('imputer', SimpleImputer(strategy='median', add_indicator=True))])\n",
        "\n",
        "cat_pipe = Pipeline([('convert', FunctionTransformer(trans_x)),\n",
        "                     ('imputer', SimpleImputer(strategy='constant',\n",
        "                                               fill_value='Unknown', add_indicator=True)),\n",
        "                     ('ohe', OneHotEncoder(handle_unknown='ignore'))])\n",
        "\n",
        "preprocessing = ColumnTransformer([('categorical', cat_pipe, cat_col),\n",
        "                                   ('continues', con_pipe, cts_col)], \n",
        "                                   remainder='drop')\n",
        "\n",
        "pipe = Pipeline([\n",
        "    ('prep', preprocessing),\n",
        "    ('clf', LogisticRegression())\n",
        "])"
      ],
      "execution_count": 143,
      "outputs": []
    },
    {
      "cell_type": "code",
      "metadata": {
        "id": "AYA5givs0f9Y"
      },
      "source": [
        "X_train, X_test, y_train, y_test = train_test_split(\n",
        "    x, y, random_state=999)"
      ],
      "execution_count": 144,
      "outputs": []
    },
    {
      "cell_type": "code",
      "metadata": {
        "colab": {
          "base_uri": "https://localhost:8080/"
        },
        "id": "0lHlIeZt0f9Y",
        "outputId": "ab17c1fd-90b3-454b-c6d2-4723db340a48"
      },
      "source": [
        "cv_scores = cross_val_score(pipe, X_train, y_train, \n",
        "                            scoring='f1_weighted', cv=5)\n",
        "\n",
        "print(f\"Mean CV f1_weighted: {cv_scores.mean():,.4f}\")"
      ],
      "execution_count": 145,
      "outputs": [
        {
          "output_type": "stream",
          "text": [
            "Mean CV f1_weighted: 0.6519\n"
          ],
          "name": "stdout"
        }
      ]
    },
    {
      "cell_type": "markdown",
      "metadata": {
        "id": "L9YLhhNh0f9Y"
      },
      "source": [
        "# PCA\n",
        "\n",
        "I have 31 features totally and I would like to try deduct the feature dimention then."
      ]
    },
    {
      "cell_type": "code",
      "metadata": {
        "id": "JPFS4pSE0f9Y"
      },
      "source": [
        "results = {}\n",
        "for n_components in range(1, 46):\n",
        "    pipe = Pipeline([('scaler', StandardScaler()),\n",
        "                     ('pca',    PCA(n_components=n_components, random_state=42)),\n",
        "                ])\n",
        "    pipe.fit(X_train[cts_col]);\n",
        "    results[n_components] = pipe"
      ],
      "execution_count": 146,
      "outputs": []
    },
    {
      "cell_type": "code",
      "metadata": {
        "id": "1p-4KdA60f9Z"
      },
      "source": [
        "explain_res = []\n",
        "for n, pca_current in results.items():\n",
        "    explained_variance_ratio_ = pca_current['pca'].explained_variance_ratio_\n",
        "    explain_res.append(sum(explained_variance_ratio_))"
      ],
      "execution_count": 147,
      "outputs": []
    },
    {
      "cell_type": "code",
      "metadata": {
        "colab": {
          "base_uri": "https://localhost:8080/",
          "height": 523
        },
        "id": "EmlqoFFl0f9Z",
        "outputId": "af7b207d-63b6-4bbb-ce6e-54560bb268fc"
      },
      "source": [
        "fig, ax = plt.subplots(figsize = (18,8))\n",
        "ax.plot(explain_res, '-*', color = 'darkred', lw=2, markersize = 10)\n",
        "ax.axhline(y = 1, linestyle=':', color = 'grey', alpha = 0.8)\n",
        "ax.axvline(x = 34, linestyle=':', color = 'grey', alpha = 0.8)\n",
        "ax.set_title(\"PCA \", size = 20)\n",
        "ax.set_xticks(np.arange(0, 45))\n",
        "ax.set_xticklabels([str(i+1) for i in range(45)])\n",
        "ax.set_xlabel(\"Number of Components\", fontsize = 15)\n",
        "ax.set_ylabel(\"Variance Explained\", fontsize = 15)\n",
        "ax.spines['top'].set_visible(False)\n",
        "ax.spines['right'].set_visible(False)\n",
        "plt.show()"
      ],
      "execution_count": 148,
      "outputs": [
        {
          "output_type": "display_data",
          "data": {
            "image/png": "[encoded data removed]",
            "text/plain": [
              "<Figure size 1296x576 with 1 Axes>"
            ]
          },
          "metadata": {
            "tags": [],
            "needs_background": "light"
          }
        }
      ]
    },
    {
      "cell_type": "markdown",
      "metadata": {
        "id": "Y4Sjgta70f9Z"
      },
      "source": [
        "From the plot I found when the number of components gradually increase over 35, the variance explaied converges, so I would try to keep the number around this range. "
      ]
    },
    {
      "cell_type": "code",
      "metadata": {
        "id": "ZKM0P4N70f9a"
      },
      "source": [
        "con_pipe2 = Pipeline([('scaler', StandardScaler()),\n",
        "                     ('imputer', SimpleImputer(strategy='median', add_indicator=True)),\n",
        "                     ('pca',    PCA(n_components=35, random_state=42))])\n",
        "\n",
        "cat_pipe = Pipeline([('convert', FunctionTransformer(trans_x)),\n",
        "                     ('imputer', SimpleImputer(strategy='constant',\n",
        "                                               fill_value='Unknown', add_indicator=True)),\n",
        "                     ('ohe', OneHotEncoder(handle_unknown='ignore'))])\n",
        "\n",
        "preprocessing2 = ColumnTransformer([('categorical', cat_pipe, cat_col),\n",
        "                                   ('continues', con_pipe2, cts_col)],\n",
        "                                   remainder='drop')\n",
        "\n",
        "pipe2 = Pipeline([\n",
        "    ('prep', preprocessing2),\n",
        "    ('clf', LogisticRegression())\n",
        "])\n"
      ],
      "execution_count": 149,
      "outputs": []
    },
    {
      "cell_type": "code",
      "metadata": {
        "colab": {
          "base_uri": "https://localhost:8080/"
        },
        "id": "vhh_yarY0f9a",
        "outputId": "630d2c1f-d2b0-438b-cf57-7e4e8723bafa"
      },
      "source": [
        "cv_scores2 = cross_val_score(pipe2, X_train, y_train, \n",
        "                            scoring='f1_weighted', cv=5)\n",
        "\n",
        "print(f\"Mean CV f1_weighted: {cv_scores2.mean():,.4f}\")"
      ],
      "execution_count": 150,
      "outputs": [
        {
          "output_type": "stream",
          "text": [
            "Mean CV f1_weighted: 0.6442\n"
          ],
          "name": "stdout"
        }
      ]
    },
    {
      "cell_type": "markdown",
      "metadata": {
        "id": "1tDBi6r10f9a"
      },
      "source": [
        "From the result I found both the mean CV f1 score actually drops, but not that much. I know it would be a trade off between model complexicity and the accuracy. I would like a more general model so I would keep PCA and sacrifice accuracy a little bit."
      ]
    },
    {
      "cell_type": "markdown",
      "metadata": {
        "id": "3sYBBWH40f9b"
      },
      "source": [
        "# Grid Search\n",
        "\n",
        "Before I use Ransomized Search, I would start with the grid search of logistic regression:"
      ]
    },
    {
      "cell_type": "code",
      "metadata": {
        "id": "gD1bYZFK0f9b"
      },
      "source": [
        "n = y_train.shape[0]\n",
        "indexes = np.random.choice(range(n), int(2* n/3) )\n",
        "X_gs, y_gs = X_train.iloc[indexes,:], y_train[indexes]"
      ],
      "execution_count": 151,
      "outputs": []
    },
    {
      "cell_type": "code",
      "metadata": {
        "colab": {
          "base_uri": "https://localhost:8080/"
        },
        "id": "wwfOrxyW0f9b",
        "outputId": "bf23fc43-f7a8-4b09-d569-1465afd27e5d"
      },
      "source": [
        "n, X_train.iloc[indexes,:].shape"
      ],
      "execution_count": 152,
      "outputs": [
        {
          "output_type": "execute_result",
          "data": {
            "text/plain": [
              "(29733, (19822, 60))"
            ]
          },
          "metadata": {
            "tags": []
          },
          "execution_count": 152
        }
      ]
    },
    {
      "cell_type": "code",
      "metadata": {
        "colab": {
          "base_uri": "https://localhost:8080/"
        },
        "id": "hR4bZyDn0f9c",
        "outputId": "7e3bfae0-caca-4ebb-8d1a-4bf27e869372"
      },
      "source": [
        "grid_params = dict(clf__penalty=['l1', 'l2'],\n",
        "                  clf__C = np.logspace(0, 4, 10),\n",
        "                  clf__class_weight = ['balanced', 'None'])\n",
        "\n",
        "gs = GridSearchCV(estimator=pipe2,  \n",
        "                  param_grid=grid_params,\n",
        "                  scoring='accuracy',\n",
        "                  cv=5)\n",
        "\n",
        "gs.fit(X_gs, y_gs)"
      ],
      "execution_count": 153,
      "outputs": [
        {
          "output_type": "execute_result",
          "data": {
            "text/plain": [
              "GridSearchCV(cv=5, error_score=nan,\n",
              "             estimator=Pipeline(memory=None,\n",
              "                                steps=[('prep',\n",
              "                                        ColumnTransformer(n_jobs=None,\n",
              "                                                          remainder='drop',\n",
              "                                                          sparse_threshold=0.3,\n",
              "                                                          transformer_weights=None,\n",
              "                                                          transformers=[('categorical',\n",
              "                                                                         Pipeline(memory=None,\n",
              "                                                                                  steps=[('convert',\n",
              "                                                                                          FunctionTransformer(accept_sparse=False,\n",
              "                                                                                                              check_inverse=True,\n",
              "                                                                                                              func=<function trans_x at 0x7f9f87a7a8c0>,\n",
              "                                                                                                              inv_kw_args...\n",
              "             iid='deprecated', n_jobs=None,\n",
              "             param_grid={'clf__C': array([1.00000000e+00, 2.78255940e+00, 7.74263683e+00, 2.15443469e+01,\n",
              "       5.99484250e+01, 1.66810054e+02, 4.64158883e+02, 1.29154967e+03,\n",
              "       3.59381366e+03, 1.00000000e+04]),\n",
              "                         'clf__class_weight': ['balanced', 'None'],\n",
              "                         'clf__penalty': ['l1', 'l2']},\n",
              "             pre_dispatch='2*n_jobs', refit=True, return_train_score=False,\n",
              "             scoring='accuracy', verbose=0)"
            ]
          },
          "metadata": {
            "tags": []
          },
          "execution_count": 153
        }
      ]
    },
    {
      "cell_type": "code",
      "metadata": {
        "colab": {
          "base_uri": "https://localhost:8080/"
        },
        "id": "DNKQnOO80f9e",
        "outputId": "4a1415c1-f562-412e-cfa4-faf7adc1a958"
      },
      "source": [
        "gs.best_estimator_.get_params()['clf']"
      ],
      "execution_count": 154,
      "outputs": [
        {
          "output_type": "execute_result",
          "data": {
            "text/plain": [
              "LogisticRegression(C=1.0, class_weight='None', dual=False, fit_intercept=True,\n",
              "                   intercept_scaling=1, l1_ratio=None, max_iter=100,\n",
              "                   multi_class='auto', n_jobs=None, penalty='l2',\n",
              "                   random_state=None, solver='lbfgs', tol=0.0001, verbose=0,\n",
              "                   warm_start=False)"
            ]
          },
          "metadata": {
            "tags": []
          },
          "execution_count": 154
        }
      ]
    },
    {
      "cell_type": "code",
      "metadata": {
        "colab": {
          "base_uri": "https://localhost:8080/"
        },
        "id": "XjL5IYNo0f9e",
        "outputId": "f4118b78-e593-4895-c85e-9652bf494b81"
      },
      "source": [
        "pipe_lg = Pipeline([\n",
        "    ('prep', preprocessing2),\n",
        "    ('clf', LogisticRegression(C=1.0, penalty='l2', class_weight='None'))\n",
        "])\n",
        "\n",
        "\n",
        "cv_scores_lg = cross_val_score(pipe_lg, X_train, y_train, \n",
        "                            scoring='f1_weighted', cv=5)\n",
        "\n",
        "print(f\"Mean CV f1_weighted: {cv_scores_lg.mean():,.4f}\")"
      ],
      "execution_count": 155,
      "outputs": [
        {
          "output_type": "stream",
          "text": [
            "Mean CV f1_weighted: 0.6442\n"
          ],
          "name": "stdout"
        }
      ]
    },
    {
      "cell_type": "code",
      "metadata": {
        "colab": {
          "base_uri": "https://localhost:8080/"
        },
        "id": "aNzqpc-i0f9f",
        "outputId": "add2dc70-6ed6-4f62-ee46-7c09a6b6ac30"
      },
      "source": [
        "pipe_lgbm = Pipeline([('prep', preprocessing2),\n",
        "                     ('clf', lgb.sklearn.LGBMClassifier())])  \n",
        "\n",
        "grid_params2 = dict(\n",
        "    clf__objective=['binary'],\n",
        "    clf__boosting_type=['gbdt'],\n",
        "    clf__learning_rate=[0.3],\n",
        "    clf__num_leaves=[300, 350, 250],\n",
        "    clf__max_depth=[200, 150, 250])\n",
        "\n",
        "\n",
        "gs2 = GridSearchCV(estimator=pipe_lgbm,\n",
        "                   param_grid=grid_params2,\n",
        "                   scoring='accuracy',\n",
        "                   cv=5)\n",
        "\n",
        "gs2.fit(X_gs, y_gs)"
      ],
      "execution_count": 112,
      "outputs": [
        {
          "output_type": "execute_result",
          "data": {
            "text/plain": [
              "GridSearchCV(cv=5, error_score=nan,\n",
              "             estimator=Pipeline(memory=None,\n",
              "                                steps=[('prep',\n",
              "                                        ColumnTransformer(n_jobs=None,\n",
              "                                                          remainder='drop',\n",
              "                                                          sparse_threshold=0.3,\n",
              "                                                          transformer_weights=None,\n",
              "                                                          transformers=[('categorical',\n",
              "                                                                         Pipeline(memory=None,\n",
              "                                                                                  steps=[('convert',\n",
              "                                                                                          FunctionTransformer(accept_sparse=False,\n",
              "                                                                                                              check_inverse=True,\n",
              "                                                                                                              func=<function trans_x at 0x7f9f89524320>,\n",
              "                                                                                                              inv_kw_args...\n",
              "                                                       subsample=1.0,\n",
              "                                                       subsample_for_bin=200000,\n",
              "                                                       subsample_freq=0))],\n",
              "                                verbose=False),\n",
              "             iid='deprecated', n_jobs=None,\n",
              "             param_grid={'clf__boosting_type': ['gbdt'],\n",
              "                         'clf__learning_rate': [0.3],\n",
              "                         'clf__max_depth': [200, 150, 250],\n",
              "                         'clf__num_leaves': [300, 350, 250],\n",
              "                         'clf__objective': ['binary']},\n",
              "             pre_dispatch='2*n_jobs', refit=True, return_train_score=False,\n",
              "             scoring='accuracy', verbose=0)"
            ]
          },
          "metadata": {
            "tags": []
          },
          "execution_count": 112
        }
      ]
    },
    {
      "cell_type": "code",
      "metadata": {
        "colab": {
          "base_uri": "https://localhost:8080/"
        },
        "id": "xdwYDWxJ0f9f",
        "outputId": "b2651787-f959-44be-9a76-6d9957947582"
      },
      "source": [
        "gs2.best_estimator_.get_params()['clf']"
      ],
      "execution_count": 113,
      "outputs": [
        {
          "output_type": "execute_result",
          "data": {
            "text/plain": [
              "LGBMClassifier(boosting_type='gbdt', class_weight=None, colsample_bytree=1.0,\n",
              "               importance_type='split', learning_rate=0.3, max_depth=200,\n",
              "               min_child_samples=20, min_child_weight=0.001, min_split_gain=0.0,\n",
              "               n_estimators=100, n_jobs=-1, num_leaves=300, objective='binary',\n",
              "               random_state=None, reg_alpha=0.0, reg_lambda=0.0, silent=True,\n",
              "               subsample=1.0, subsample_for_bin=200000, subsample_freq=0)"
            ]
          },
          "metadata": {
            "tags": []
          },
          "execution_count": 113
        }
      ]
    },
    {
      "cell_type": "code",
      "metadata": {
        "colab": {
          "base_uri": "https://localhost:8080/",
          "height": 136
        },
        "id": "pEYdiU5u0f9f",
        "outputId": "e7b83997-ec7c-42ab-f15b-8994e54724b7"
      },
      "source": [
        "print('Plotting tree...')  \n",
        "ax = lgb.plot_tree(gs2.best_estimator_.get_params()['clf'], tree_index=1, figsize=(20, 8))\n",
        "plt.show()"
      ],
      "execution_count": 114,
      "outputs": [
        {
          "output_type": "stream",
          "text": [
            "Plotting tree...\n"
          ],
          "name": "stdout"
        },
        {
          "output_type": "stream",
          "text": [
            "dot: graph is too large for cairo-renderer bitmaps. Scaling by 0.722313 to fit\n"
          ],
          "name": "stderr"
        },
        {
          "output_type": "display_data",
          "data": {
            "image/png": "[encoded data removed]",
            "text/plain": [
              "<Figure size 1440x576 with 1 Axes>"
            ]
          },
          "metadata": {
            "tags": [],
            "needs_background": "light"
          }
        }
      ]
    },
    {
      "cell_type": "code",
      "metadata": {
        "colab": {
          "base_uri": "https://localhost:8080/"
        },
        "id": "_P0o9RXv0f9g",
        "outputId": "f1bc3ca4-1c5c-4758-a091-dbbadc31c7a4"
      },
      "source": [
        "pipe_lgbm = Pipeline([\n",
        "    ('prep', preprocessing2),\n",
        "    ('clf', lgb.sklearn.LGBMClassifier(learning_rate=0.3, max_depth=200, num_leaves=300,\n",
        "               objective='binary', boosting_type='gbdt'))\n",
        "])\n",
        "\n",
        "cv_scores_lgbm = cross_val_score(pipe_lgbm, X_train, y_train,\n",
        "                                 scoring='f1_weighted', cv=5)\n",
        "\n",
        "print(f\"Mean CV f1_weighted: {cv_scores_lgbm.mean():,.4f}\")"
      ],
      "execution_count": 156,
      "outputs": [
        {
          "output_type": "stream",
          "text": [
            "Mean CV f1_weighted: 0.6328\n"
          ],
          "name": "stdout"
        }
      ]
    },
    {
      "cell_type": "code",
      "metadata": {
        "colab": {
          "base_uri": "https://localhost:8080/"
        },
        "id": "qH-HkloL0f9g",
        "outputId": "d3735fb1-b17f-4b1b-e1c2-ba4a4ba20211"
      },
      "source": [
        "pipe_svc = Pipeline([('prep', preprocessing2),\n",
        "                     ('clf', LinearSVC())])  \n",
        "\n",
        "grid_params = dict(clf__penalty=['l1', 'l2'],\n",
        "                  clf__C = np.logspace(0, 4, 10),\n",
        "                  clf__class_weight = ['balanced', 'None'],\n",
        "                  clf__max_iter = [1000, 2000, 3000])\n",
        "\n",
        "gs3 = GridSearchCV(estimator=pipe_svc,  \n",
        "                  param_grid=grid_params,\n",
        "                  scoring='accuracy',\n",
        "                  cv=5)\n",
        "\n",
        "gs3.fit(X_gs, y_gs)"
      ],
      "execution_count": 116,
      "outputs": [
        {
          "output_type": "execute_result",
          "data": {
            "text/plain": [
              "GridSearchCV(cv=5, error_score=nan,\n",
              "             estimator=Pipeline(memory=None,\n",
              "                                steps=[('prep',\n",
              "                                        ColumnTransformer(n_jobs=None,\n",
              "                                                          remainder='drop',\n",
              "                                                          sparse_threshold=0.3,\n",
              "                                                          transformer_weights=None,\n",
              "                                                          transformers=[('categorical',\n",
              "                                                                         Pipeline(memory=None,\n",
              "                                                                                  steps=[('convert',\n",
              "                                                                                          FunctionTransformer(accept_sparse=False,\n",
              "                                                                                                              check_inverse=True,\n",
              "                                                                                                              func=<function trans_x at 0x7f9f89524320>,\n",
              "                                                                                                              inv_kw_args...\n",
              "             param_grid={'clf__C': array([1.00000000e+00, 2.78255940e+00, 7.74263683e+00, 2.15443469e+01,\n",
              "       5.99484250e+01, 1.66810054e+02, 4.64158883e+02, 1.29154967e+03,\n",
              "       3.59381366e+03, 1.00000000e+04]),\n",
              "                         'clf__class_weight': ['balanced', 'None'],\n",
              "                         'clf__max_iter': [1000, 2000, 3000],\n",
              "                         'clf__penalty': ['l1', 'l2']},\n",
              "             pre_dispatch='2*n_jobs', refit=True, return_train_score=False,\n",
              "             scoring='accuracy', verbose=0)"
            ]
          },
          "metadata": {
            "tags": []
          },
          "execution_count": 116
        }
      ]
    },
    {
      "cell_type": "code",
      "metadata": {
        "colab": {
          "base_uri": "https://localhost:8080/"
        },
        "id": "cj4xNsGN0f9h",
        "outputId": "5deade6c-9903-4e38-8237-7fe19f1b6ba4"
      },
      "source": [
        "gs3.best_estimator_.get_params()['clf']"
      ],
      "execution_count": 117,
      "outputs": [
        {
          "output_type": "execute_result",
          "data": {
            "text/plain": [
              "LinearSVC(C=1.0, class_weight='balanced', dual=True, fit_intercept=True,\n",
              "          intercept_scaling=1, loss='squared_hinge', max_iter=1000,\n",
              "          multi_class='ovr', penalty='l2', random_state=None, tol=0.0001,\n",
              "          verbose=0)"
            ]
          },
          "metadata": {
            "tags": []
          },
          "execution_count": 117
        }
      ]
    },
    {
      "cell_type": "code",
      "metadata": {
        "colab": {
          "base_uri": "https://localhost:8080/"
        },
        "id": "Ui-2QzIb0f9h",
        "outputId": "46f8a41a-71bf-4457-d8d3-1e29478dfbbf"
      },
      "source": [
        "pipe_svc = Pipeline([('prep', preprocessing2),\n",
        "                     ('clf', LinearSVC(C=1.0, class_weight='balanced', penalty='l2', max_iter=1000))])  \n",
        "cv_scores_svc= cross_val_score(pipe_svc, X_train, y_train,\n",
        "                                 scoring='f1_weighted', cv=5)\n",
        "\n",
        "print(f\"Mean CV f1_weighted: {cv_scores_svc.mean():,.4f}\")"
      ],
      "execution_count": 157,
      "outputs": [
        {
          "output_type": "stream",
          "text": [
            "Mean CV f1_weighted: 0.6451\n"
          ],
          "name": "stdout"
        }
      ]
    },
    {
      "cell_type": "code",
      "metadata": {
        "colab": {
          "base_uri": "https://localhost:8080/"
        },
        "id": "VlgWO8hZ0f9h",
        "outputId": "decb8dea-a087-4077-bfcc-aef11db2d146"
      },
      "source": [
        "pipe_et = Pipeline([('prep', preprocessing2),\n",
        "                     ('clf', ExtraTreesClassifier())])\n",
        "\n",
        "\n",
        "grid_params = dict(\n",
        "    clf__class_weight = ['balanced', 'balanced_subsample'],\n",
        "    clf__min_samples_leaf=[1,2],\n",
        "    clf__max_depth=[50, 200])\n",
        "\n",
        "gs4 = GridSearchCV(estimator=pipe_et,  \n",
        "                  param_grid=grid_params,\n",
        "                  scoring='accuracy',\n",
        "                  cv=5)\n",
        "\n",
        "gs4.fit(X_gs, y_gs)"
      ],
      "execution_count": 119,
      "outputs": [
        {
          "output_type": "execute_result",
          "data": {
            "text/plain": [
              "GridSearchCV(cv=5, error_score=nan,\n",
              "             estimator=Pipeline(memory=None,\n",
              "                                steps=[('prep',\n",
              "                                        ColumnTransformer(n_jobs=None,\n",
              "                                                          remainder='drop',\n",
              "                                                          sparse_threshold=0.3,\n",
              "                                                          transformer_weights=None,\n",
              "                                                          transformers=[('categorical',\n",
              "                                                                         Pipeline(memory=None,\n",
              "                                                                                  steps=[('convert',\n",
              "                                                                                          FunctionTransformer(accept_sparse=False,\n",
              "                                                                                                              check_inverse=True,\n",
              "                                                                                                              func=<function trans_x at 0x7f9f89524320>,\n",
              "                                                                                                              inv_kw_args...\n",
              "                                                             min_weight_fraction_leaf=0.0,\n",
              "                                                             n_estimators=100,\n",
              "                                                             n_jobs=None,\n",
              "                                                             oob_score=False,\n",
              "                                                             random_state=None,\n",
              "                                                             verbose=0,\n",
              "                                                             warm_start=False))],\n",
              "                                verbose=False),\n",
              "             iid='deprecated', n_jobs=None,\n",
              "             param_grid={'clf__class_weight': ['balanced',\n",
              "                                               'balanced_subsample'],\n",
              "                         'clf__max_depth': [50, 200],\n",
              "                         'clf__min_samples_leaf': [1, 2]},\n",
              "             pre_dispatch='2*n_jobs', refit=True, return_train_score=False,\n",
              "             scoring='accuracy', verbose=0)"
            ]
          },
          "metadata": {
            "tags": []
          },
          "execution_count": 119
        }
      ]
    },
    {
      "cell_type": "code",
      "metadata": {
        "colab": {
          "base_uri": "https://localhost:8080/"
        },
        "id": "oNwuwIEK0f9i",
        "outputId": "ce09bcbb-dc22-4adf-abed-bcfd3ebb53e5"
      },
      "source": [
        "gs4.best_estimator_.get_params()['clf']"
      ],
      "execution_count": 120,
      "outputs": [
        {
          "output_type": "execute_result",
          "data": {
            "text/plain": [
              "ExtraTreesClassifier(bootstrap=False, ccp_alpha=0.0, class_weight='balanced',\n",
              "                     criterion='gini', max_depth=200, max_features='auto',\n",
              "                     max_leaf_nodes=None, max_samples=None,\n",
              "                     min_impurity_decrease=0.0, min_impurity_split=None,\n",
              "                     min_samples_leaf=2, min_samples_split=2,\n",
              "                     min_weight_fraction_leaf=0.0, n_estimators=100,\n",
              "                     n_jobs=None, oob_score=False, random_state=None, verbose=0,\n",
              "                     warm_start=False)"
            ]
          },
          "metadata": {
            "tags": []
          },
          "execution_count": 120
        }
      ]
    },
    {
      "cell_type": "code",
      "metadata": {
        "colab": {
          "base_uri": "https://localhost:8080/"
        },
        "id": "eGw-zv7l0f9i",
        "outputId": "ce3bbd2a-f296-4956-ca49-76a866b0e107"
      },
      "source": [
        "pipe_et = Pipeline([('prep', preprocessing2),\n",
        "                    ('clf', ExtraTreesClassifier(class_weight='balanced', min_samples_leaf=2, max_depth=200))])\n",
        "cv_scores_et = cross_val_score(pipe_et, X_train, y_train,\n",
        "                               scoring='f1_weighted', cv=5)\n",
        "\n",
        "print(f\"Mean CV f1_weighted: {cv_scores_et.mean():,.4f}\")"
      ],
      "execution_count": 158,
      "outputs": [
        {
          "output_type": "stream",
          "text": [
            "Mean CV f1_weighted: 0.6464\n"
          ],
          "name": "stdout"
        }
      ]
    },
    {
      "cell_type": "code",
      "metadata": {
        "colab": {
          "base_uri": "https://localhost:8080/"
        },
        "id": "cR6VcChp0f9i",
        "outputId": "3172b107-7e69-4e31-c261-f7e89d267da1"
      },
      "source": [
        "pipe_rf = Pipeline([('prep', preprocessing2),\n",
        "                     ('clf', RandomForestClassifier())])\n",
        "\n",
        "\n",
        "grid_params = dict(clf__n_estimators = [50,100,150,200],\n",
        "                  clf__max_features = ['sqrt', 'log2'],\n",
        "                  clf__min_samples_split = [2,10,20])\n",
        "\n",
        "gs5 = GridSearchCV(estimator=pipe_rf,  \n",
        "                  param_grid=grid_params,\n",
        "                  scoring='accuracy',\n",
        "                  cv=5)\n",
        "\n",
        "gs5.fit(X_gs, y_gs)"
      ],
      "execution_count": 122,
      "outputs": [
        {
          "output_type": "execute_result",
          "data": {
            "text/plain": [
              "GridSearchCV(cv=5, error_score=nan,\n",
              "             estimator=Pipeline(memory=None,\n",
              "                                steps=[('prep',\n",
              "                                        ColumnTransformer(n_jobs=None,\n",
              "                                                          remainder='drop',\n",
              "                                                          sparse_threshold=0.3,\n",
              "                                                          transformer_weights=None,\n",
              "                                                          transformers=[('categorical',\n",
              "                                                                         Pipeline(memory=None,\n",
              "                                                                                  steps=[('convert',\n",
              "                                                                                          FunctionTransformer(accept_sparse=False,\n",
              "                                                                                                              check_inverse=True,\n",
              "                                                                                                              func=<function trans_x at 0x7f9f89524320>,\n",
              "                                                                                                              inv_kw_args...\n",
              "                                                               min_weight_fraction_leaf=0.0,\n",
              "                                                               n_estimators=100,\n",
              "                                                               n_jobs=None,\n",
              "                                                               oob_score=False,\n",
              "                                                               random_state=None,\n",
              "                                                               verbose=0,\n",
              "                                                               warm_start=False))],\n",
              "                                verbose=False),\n",
              "             iid='deprecated', n_jobs=None,\n",
              "             param_grid={'clf__max_features': ['sqrt', 'log2'],\n",
              "                         'clf__min_samples_split': [2, 10, 20],\n",
              "                         'clf__n_estimators': [50, 100, 150, 200]},\n",
              "             pre_dispatch='2*n_jobs', refit=True, return_train_score=False,\n",
              "             scoring='accuracy', verbose=0)"
            ]
          },
          "metadata": {
            "tags": []
          },
          "execution_count": 122
        }
      ]
    },
    {
      "cell_type": "code",
      "metadata": {
        "colab": {
          "base_uri": "https://localhost:8080/"
        },
        "id": "0PdWeG-a0f9j",
        "outputId": "547ba99c-4e00-469d-c102-a24259e1b62a"
      },
      "source": [
        "gs5.best_estimator_.get_params()['clf']"
      ],
      "execution_count": 123,
      "outputs": [
        {
          "output_type": "execute_result",
          "data": {
            "text/plain": [
              "RandomForestClassifier(bootstrap=True, ccp_alpha=0.0, class_weight=None,\n",
              "                       criterion='gini', max_depth=None, max_features='sqrt',\n",
              "                       max_leaf_nodes=None, max_samples=None,\n",
              "                       min_impurity_decrease=0.0, min_impurity_split=None,\n",
              "                       min_samples_leaf=1, min_samples_split=2,\n",
              "                       min_weight_fraction_leaf=0.0, n_estimators=200,\n",
              "                       n_jobs=None, oob_score=False, random_state=None,\n",
              "                       verbose=0, warm_start=False)"
            ]
          },
          "metadata": {
            "tags": []
          },
          "execution_count": 123
        }
      ]
    },
    {
      "cell_type": "code",
      "metadata": {
        "colab": {
          "base_uri": "https://localhost:8080/"
        },
        "id": "o16Gdibm0f9j",
        "outputId": "e2b8617c-2ef7-412e-cb1d-03a21aacc74a"
      },
      "source": [
        "pipe_rf = Pipeline([('prep', preprocessing2),\n",
        "                    ('clf', RandomForestClassifier(max_features='sqrt', min_samples_split=2,\n",
        "                                                   n_estimators=200))])\n",
        "cv_scores_rf = cross_val_score(pipe_rf, X_train, y_train,\n",
        "                               scoring='f1_weighted', cv=5)\n",
        "\n",
        "print(f\"Mean CV f1_weighted: {cv_scores_rf.mean():,.4f}\")"
      ],
      "execution_count": 159,
      "outputs": [
        {
          "output_type": "stream",
          "text": [
            "Mean CV f1_weighted: 0.6509\n"
          ],
          "name": "stdout"
        }
      ]
    },
    {
      "cell_type": "markdown",
      "metadata": {
        "id": "u2esv2-v0f9j"
      },
      "source": [
        "# Randomized Search"
      ]
    },
    {
      "cell_type": "code",
      "metadata": {
        "id": "gpARPjFY0f9k"
      },
      "source": [
        "class DummyEstimator(BaseEstimator):\n",
        "    \"Pass through class, methods are present but do nothing.\"\n",
        "\n",
        "    def fit(self): pass\n",
        "    def score(self): pass\n",
        "\n",
        "\n",
        "pipe_search = Pipeline([\n",
        "    ('prep', preprocessing2),\n",
        "    ('clf', DummyEstimator())\n",
        "])\n",
        "\n",
        "search = [\n",
        "    {\n",
        "        'clf': [LogisticRegression(class_weight='balanced')],\n",
        "        'clf__C': np.logspace(0, 4, 10)\n",
        "    },\n",
        "    {\n",
        "        'clf': [(lgb.sklearn.LGBMClassifier(objective='binary'))],\n",
        "        'clf__learning_rate': [0.1, 0.3, 1]\n",
        "    },\n",
        "    {\n",
        "        'clf': [RandomForestClassifier()],\n",
        "        'clf__n_estimators': range(50, 400, 50),\n",
        "        'clf__max_features': ['auto', 'sqrt', 'log2']\n",
        "    },\n",
        "    {\n",
        "        'clf': [ExtraTreesClassifier()],\n",
        "        'clf__max_features': ['auto', 'sqrt', 'log2'],\n",
        "        'clf__class_weight': ['balanced', 'balanced_subsample']\n",
        "    },\n",
        "    {\n",
        "        'clf': [LinearSVC(class_weight='balanced')],\n",
        "        'clf__C': np.logspace(0, 4, 10)\n",
        "    }\n",
        "]\n",
        "\n",
        "clf_algos_rand = RandomizedSearchCV(estimator=pipe_search,\n",
        "                                    param_distributions=search,\n",
        "                                    n_iter=15,\n",
        "                                    cv=5,\n",
        "                                    n_jobs=-1,\n",
        "                                    verbose=1)"
      ],
      "execution_count": 125,
      "outputs": []
    },
    {
      "cell_type": "code",
      "metadata": {
        "colab": {
          "base_uri": "https://localhost:8080/"
        },
        "id": "N9bZonBA0f9k",
        "outputId": "56dbd4c1-e3bd-43f6-87e8-7b4418f9792f"
      },
      "source": [
        "\n",
        "clf_algos_rand.fit(X_train, y_train)\n",
        "\n",
        "clf_algos_rand.best_estimator_"
      ],
      "execution_count": 126,
      "outputs": [
        {
          "output_type": "stream",
          "text": [
            "Fitting 5 folds for each of 15 candidates, totalling 75 fits\n"
          ],
          "name": "stdout"
        },
        {
          "output_type": "stream",
          "text": [
            "[Parallel(n_jobs=-1)]: Using backend LokyBackend with 2 concurrent workers.\n",
            "[Parallel(n_jobs=-1)]: Done  46 tasks      | elapsed:  2.2min\n",
            "[Parallel(n_jobs=-1)]: Done  75 out of  75 | elapsed:  7.7min finished\n"
          ],
          "name": "stderr"
        },
        {
          "output_type": "execute_result",
          "data": {
            "text/plain": [
              "Pipeline(memory=None,\n",
              "         steps=[('prep',\n",
              "                 ColumnTransformer(n_jobs=None, remainder='drop',\n",
              "                                   sparse_threshold=0.3,\n",
              "                                   transformer_weights=None,\n",
              "                                   transformers=[('categorical',\n",
              "                                                  Pipeline(memory=None,\n",
              "                                                           steps=[('convert',\n",
              "                                                                   FunctionTransformer(accept_sparse=False,\n",
              "                                                                                       check_inverse=True,\n",
              "                                                                                       func=<function trans_x at 0x7f9f89524320>,\n",
              "                                                                                       inv_kw_args=None,\n",
              "                                                                                       inverse_func=None,\n",
              "                                                                                       kw_args=None,\n",
              "                                                                                       validat...\n",
              "                 RandomForestClassifier(bootstrap=True, ccp_alpha=0.0,\n",
              "                                        class_weight=None, criterion='gini',\n",
              "                                        max_depth=None, max_features='sqrt',\n",
              "                                        max_leaf_nodes=None, max_samples=None,\n",
              "                                        min_impurity_decrease=0.0,\n",
              "                                        min_impurity_split=None,\n",
              "                                        min_samples_leaf=1, min_samples_split=2,\n",
              "                                        min_weight_fraction_leaf=0.0,\n",
              "                                        n_estimators=300, n_jobs=None,\n",
              "                                        oob_score=False, random_state=None,\n",
              "                                        verbose=0, warm_start=False))],\n",
              "         verbose=False)"
            ]
          },
          "metadata": {
            "tags": []
          },
          "execution_count": 126
        }
      ]
    },
    {
      "cell_type": "code",
      "metadata": {
        "id": "ebCa5zt10f9k"
      },
      "source": [
        "clf_algos_rand.best_estimator_.get_params()['clf']"
      ],
      "execution_count": null,
      "outputs": []
    },
    {
      "cell_type": "code",
      "metadata": {
        "id": "Qe5jmi_n0f9k"
      },
      "source": [
        "pipe3 = Pipeline([\n",
        "    ('prep', preprocessing2),\n",
        "    ('clf', RandomForestClassifier(bootstrap=True, ccp_alpha=0.0,\n",
        "                                        class_weight=None, criterion='gini',\n",
        "                                        max_depth=None, max_features='sqrt',\n",
        "                                        max_leaf_nodes=None, max_samples=None,\n",
        "                                        min_impurity_decrease=0.0,\n",
        "                                        min_impurity_split=None,\n",
        "                                        min_samples_leaf=1, min_samples_split=2,\n",
        "                                        min_weight_fraction_leaf=0.0,\n",
        "                                        n_estimators=300, n_jobs=None,\n",
        "                                        oob_score=False, random_state=None,\n",
        "                                        verbose=0, warm_start=False))\n",
        "])\n",
        "\n",
        "\n",
        "cv_scores3 = cross_val_score(pipe3, X_train, y_train, \n",
        "                            scoring='f1_weighted', cv=5)"
      ],
      "execution_count": 127,
      "outputs": []
    },
    {
      "cell_type": "code",
      "metadata": {
        "colab": {
          "base_uri": "https://localhost:8080/"
        },
        "id": "y8SMj7G-0f9k",
        "outputId": "4daec9ba-8407-437c-c1d2-85d8acc3cd21"
      },
      "source": [
        "print(f\"Mean CV f1_weighted: {cv_scores3.mean():,.4f}\")"
      ],
      "execution_count": 128,
      "outputs": [
        {
          "output_type": "stream",
          "text": [
            "Mean CV f1_weighted: 0.6523\n"
          ],
          "name": "stdout"
        }
      ]
    },
    {
      "cell_type": "markdown",
      "metadata": {
        "id": "jGVEShcL0f9l"
      },
      "source": [
        "# Result/Conclusion \n",
        "\n",
        "- Then I would apply my final model on the test data and use the same metric to evaluate - F1 weigthed score. \n",
        "- As instructed by the professor, I only use test data after I get my final model and I never used it in my previous training and model selection."
      ]
    },
    {
      "cell_type": "code",
      "metadata": {
        "colab": {
          "base_uri": "https://localhost:8080/"
        },
        "id": "weuLswgT0f9l",
        "outputId": "1fe85966-4b92-456f-e486-cb7f449fb3c9"
      },
      "source": [
        "cv_scores_valid = cross_val_score(pipe3, X_test, y_test,\n",
        "                                  scoring='f1_weighted', cv=5)\n",
        "\n",
        "print(f\"Mean CV f1_weighted: {cv_scores_valid.mean():,.4f}\")"
      ],
      "execution_count": 129,
      "outputs": [
        {
          "output_type": "stream",
          "text": [
            "Mean CV f1_weighted: 0.6469\n"
          ],
          "name": "stdout"
        }
      ]
    },
    {
      "cell_type": "markdown",
      "metadata": {
        "id": "-DS5GWUI0f9l"
      },
      "source": [
        "- except for f1 weighted score, I would plot the normalized confusion matrix. Both the precision and recall are satisfactory as the upper left and lower right corner are darker."
      ]
    },
    {
      "cell_type": "code",
      "metadata": {
        "id": "twd-94os0f9l"
      },
      "source": [
        "pipe3.fit(X_train, y_train)\n",
        "y_pred = pipe3.predict(X_test)\n",
        "mat = confusion_matrix(y_test, y_pred)"
      ],
      "execution_count": 130,
      "outputs": []
    },
    {
      "cell_type": "code",
      "metadata": {
        "colab": {
          "base_uri": "https://localhost:8080/",
          "height": 330
        },
        "id": "UHlYp34p0f9l",
        "outputId": "61c519ae-7f12-4378-a7e5-86605bfec464"
      },
      "source": [
        "def normalize(mat):\n",
        "    \"\"\"Convert confusion matrix values to percentages (recall).\"\"\"\n",
        "    return mat / mat.sum(axis=1).reshape(-1, 1)\n",
        "labels = ['popular', 'not popular']\n",
        "fig, ax = plt.subplots(figsize=(6, 4.5))\n",
        "sns.heatmap(normalize(mat), cmap='Reds', ax=ax)\n",
        "plt.xlabel('Predicted', size=15)\n",
        "plt.ylabel('Actual', size=15)\n",
        "plt.xticks(ticks=np.arange(0.5, len(labels)+0.5), labels=labels)\n",
        "plt.yticks(ticks=np.arange(0.5, len(labels)+0.5), labels=labels)\n",
        "ax.xaxis.set_ticks_position('top')\n",
        "ax.xaxis.set_label_position('top')\n",
        "ax.set_title('Normalized Confusion Matrix', fontsize = 20)\n",
        "plt.show()"
      ],
      "execution_count": 131,
      "outputs": [
        {
          "output_type": "display_data",
          "data": {
            "image/png": "[encoded data removed]",
            "text/plain": [
              "<Figure size 432x324 with 2 Axes>"
            ]
          },
          "metadata": {
            "tags": [],
            "needs_background": "light"
          }
        }
      ]
    },
    {
      "cell_type": "markdown",
      "metadata": {
        "id": "4CLGHkow0f9l"
      },
      "source": [
        "## Final model display\n",
        "\n",
        "- Visually displayed single, best final model\n",
        "- Display all pipelines steps and all non-default hyperparameters\n",
        "- Display final model parameters"
      ]
    },
    {
      "cell_type": "code",
      "metadata": {
        "colab": {
          "base_uri": "https://localhost:8080/"
        },
        "id": "Nx2KdAYU0f9m",
        "outputId": "d31de6fa-0266-4d99-a12f-b1ec620efa75"
      },
      "source": [
        "pipe3"
      ],
      "execution_count": 132,
      "outputs": [
        {
          "output_type": "execute_result",
          "data": {
            "text/plain": [
              "Pipeline(memory=None,\n",
              "         steps=[('prep',\n",
              "                 ColumnTransformer(n_jobs=None, remainder='drop',\n",
              "                                   sparse_threshold=0.3,\n",
              "                                   transformer_weights=None,\n",
              "                                   transformers=[('categorical',\n",
              "                                                  Pipeline(memory=None,\n",
              "                                                           steps=[('convert',\n",
              "                                                                   FunctionTransformer(accept_sparse=False,\n",
              "                                                                                       check_inverse=True,\n",
              "                                                                                       func=<function trans_x at 0x7f9f89524320>,\n",
              "                                                                                       inv_kw_args=None,\n",
              "                                                                                       inverse_func=None,\n",
              "                                                                                       kw_args=None,\n",
              "                                                                                       validat...\n",
              "                 RandomForestClassifier(bootstrap=True, ccp_alpha=0.0,\n",
              "                                        class_weight=None, criterion='gini',\n",
              "                                        max_depth=None, max_features='sqrt',\n",
              "                                        max_leaf_nodes=None, max_samples=None,\n",
              "                                        min_impurity_decrease=0.0,\n",
              "                                        min_impurity_split=None,\n",
              "                                        min_samples_leaf=1, min_samples_split=2,\n",
              "                                        min_weight_fraction_leaf=0.0,\n",
              "                                        n_estimators=300, n_jobs=None,\n",
              "                                        oob_score=False, random_state=None,\n",
              "                                        verbose=0, warm_start=False))],\n",
              "         verbose=False)"
            ]
          },
          "metadata": {
            "tags": []
          },
          "execution_count": 132
        }
      ]
    },
    {
      "cell_type": "code",
      "metadata": {
        "colab": {
          "base_uri": "https://localhost:8080/"
        },
        "id": "yLnh94zC0f9m",
        "outputId": "a9514402-cb71-415b-b7d7-9bc7e1f903f4"
      },
      "source": [
        "pipe3.get_params()['steps']"
      ],
      "execution_count": 133,
      "outputs": [
        {
          "output_type": "execute_result",
          "data": {
            "text/plain": [
              "[('prep',\n",
              "  ColumnTransformer(n_jobs=None, remainder='drop', sparse_threshold=0.3,\n",
              "                    transformer_weights=None,\n",
              "                    transformers=[('categorical',\n",
              "                                   Pipeline(memory=None,\n",
              "                                            steps=[('convert',\n",
              "                                                    FunctionTransformer(accept_sparse=False,\n",
              "                                                                        check_inverse=True,\n",
              "                                                                        func=<function trans_x at 0x7f9f89524320>,\n",
              "                                                                        inv_kw_args=None,\n",
              "                                                                        inverse_func=None,\n",
              "                                                                        kw_args=None,\n",
              "                                                                        validate=False)),\n",
              "                                                   ('imputer',\n",
              "                                                    SimpleImputer(a...\n",
              "                                    ' num_self_hrefs', ' num_imgs', ' num_videos',\n",
              "                                    ' average_token_length', ' num_keywords',\n",
              "                                    ' kw_min_min', ' kw_max_min', ' kw_avg_min',\n",
              "                                    ' kw_min_max', ' kw_max_max', ' kw_avg_max',\n",
              "                                    ' kw_min_avg', ' kw_max_avg', ' kw_avg_avg',\n",
              "                                    ' self_reference_min_shares',\n",
              "                                    ' self_reference_max_shares',\n",
              "                                    ' self_reference_avg_sharess', ' LDA_00',\n",
              "                                    ' LDA_01', ' LDA_02', ' LDA_03', ' LDA_04',\n",
              "                                    ' global_subjectivity', ...])],\n",
              "                    verbose=False)),\n",
              " ('clf',\n",
              "  RandomForestClassifier(bootstrap=True, ccp_alpha=0.0, class_weight=None,\n",
              "                         criterion='gini', max_depth=None, max_features='sqrt',\n",
              "                         max_leaf_nodes=None, max_samples=None,\n",
              "                         min_impurity_decrease=0.0, min_impurity_split=None,\n",
              "                         min_samples_leaf=1, min_samples_split=2,\n",
              "                         min_weight_fraction_leaf=0.0, n_estimators=300,\n",
              "                         n_jobs=None, oob_score=False, random_state=None,\n",
              "                         verbose=0, warm_start=False))]"
            ]
          },
          "metadata": {
            "tags": []
          },
          "execution_count": 133
        }
      ]
    },
    {
      "cell_type": "code",
      "metadata": {
        "colab": {
          "base_uri": "https://localhost:8080/"
        },
        "id": "J6oKBSEf0f9m",
        "outputId": "500c65c6-b4b1-4d9d-e980-10b25b9e2d8a"
      },
      "source": [
        "pipe3.get_params()['clf']"
      ],
      "execution_count": 134,
      "outputs": [
        {
          "output_type": "execute_result",
          "data": {
            "text/plain": [
              "RandomForestClassifier(bootstrap=True, ccp_alpha=0.0, class_weight=None,\n",
              "                       criterion='gini', max_depth=None, max_features='sqrt',\n",
              "                       max_leaf_nodes=None, max_samples=None,\n",
              "                       min_impurity_decrease=0.0, min_impurity_split=None,\n",
              "                       min_samples_leaf=1, min_samples_split=2,\n",
              "                       min_weight_fraction_leaf=0.0, n_estimators=300,\n",
              "                       n_jobs=None, oob_score=False, random_state=None,\n",
              "                       verbose=0, warm_start=False)"
            ]
          },
          "metadata": {
            "tags": []
          },
          "execution_count": 134
        }
      ]
    },
    {
      "cell_type": "markdown",
      "metadata": {
        "id": "ncYmn5MU0f9m"
      },
      "source": [
        "## Intepretation\n",
        "\n",
        "- Explained why things worked (or didn't work)\n",
        "\n",
        "I am not surperised that Random Forest performs the best, since:\n",
        "\n",
        "1. Compared with Logistic, Linear SVC, LGBMClassifier, Random Forest use the ensemble method which composed of multiple trees and use majority vote to make final decision. The magic of improved performance is often the reduction in the variance of predicted errors made by its contributing models.   \n",
        "\n",
        "2. Compared with ExtraTreeClassifier, Random Forest use bootstrap replica but ExtraTree use the original whole data, so ExtraTree may get higher variance. Besides, Random Forest choose best split to minimize loss while ExtraTree use random value. Therefore ExtraTree add randomization.    \n",
        "\n",
        "3. Although the f1 weighted score of my final pipeline doesn't increase too much. But consider when the dataset size becomes larger, a small increase can be a great progress as well.   \n",
        "\n",
        "4. Another thing I want to mention is why I choose to keep PCA step. I think this step can be skipped when other people use my pipeline if they want to get higher accuracy, or they want to look at the feature importance. In my case, I would like to get a lower dimension feature space so it is inevitable to lose some information.    \n",
        "\n",
        "\n",
        "- Connection to business outcome. Answers \"Why does this matter?\"\n",
        "\n",
        "In the recent decades, online news became a new popular source for people to obtain news, and for most of the times, people would only focus on the hot topics. Also, reading and sharing news have become the center of people’s entertainment lives. If we could predict the popularity of news prior to its publication, it would be valuable for social media companies, also some authors and advertisers. They can have a prior understanding on what kind of news will receive more clicks, then they can make certain changes on the news' content to make it more popular.   \n",
        "\n",
        "\n",
        "- List of next steps / future directions\n",
        "\n",
        "1. Except for LGBMClassifier, there are other boosting models I can try, such as XGBoosting, AdaBoost. Besides, stacking can be another model choice.\n",
        "2. I believe there is still a large room on feature selection. In the future, it would be interesting to consider add some interaction terms, or other information from some other datasets. For example, I could directly treat all the words in an article as additional features, and then apply machine learning algorithms like Naive Bayes. Combination of the NLP analysis and my pipeline would help."
      ]
    }
  ]
}